{
 "cells": [
  {
   "attachments": {},
   "cell_type": "markdown",
   "metadata": {},
   "source": [
    "# `microguilds` tutorial\n",
    "This tutorial will guide you through a use case using a mock mastertable.\n",
    "\n",
    "### Table of contents\n",
    "1. Enrichment analysis.\n",
    "2. Filtering significant nodes. \n",
    "3. Clustering the phylogenetic tree.\n",
    "4. Sample placement.\n",
    "5. Compute a guilds' k tensor. \n",
    "6. Visualize a guilds' k tensor.\n",
    "7. Interpret the results.\n",
    "\n",
    "### Import libraries\n"
   ]
  },
  {
   "cell_type": "code",
   "execution_count": 34,
   "metadata": {},
   "outputs": [],
   "source": [
    "import warnings\n",
    "import numpy as np \n",
    "import pandas as pd \n",
    "import matplotlib.pyplot as plt \n",
    "import functional_clustering_utils as fcutils\n",
    "from tqdm import tqdm"
   ]
  },
  {
   "attachments": {},
   "cell_type": "markdown",
   "metadata": {},
   "source": [
    "### Setup important variables"
   ]
  },
  {
   "cell_type": "code",
   "execution_count": 35,
   "metadata": {},
   "outputs": [],
   "source": [
    "# Input\n",
    "GENE = \"mocK\"\n",
    "FILENAME_ENV_DATA = './environmental_data_mock.csv'\n",
    "FILENAME_TREE = f'./{GENE}_tree.newick'\n",
    "\n",
    "# Others\n",
    "MCMAX = 9999"
   ]
  },
  {
   "attachments": {},
   "cell_type": "markdown",
   "metadata": {},
   "source": [
    "### 1. Enrichment analysis\n",
    "\n",
    "##### First load environmental data"
   ]
  },
  {
   "cell_type": "code",
   "execution_count": 36,
   "metadata": {},
   "outputs": [
    {
     "name": "stdout",
     "output_type": "stream",
     "text": [
      "Succesfully loaded ./environmental_data_mock.csv\n"
     ]
    },
    {
     "data": {
      "text/html": [
       "<div>\n",
       "<style scoped>\n",
       "    .dataframe tbody tr th:only-of-type {\n",
       "        vertical-align: middle;\n",
       "    }\n",
       "\n",
       "    .dataframe tbody tr th {\n",
       "        vertical-align: top;\n",
       "    }\n",
       "\n",
       "    .dataframe thead th {\n",
       "        text-align: right;\n",
       "    }\n",
       "</style>\n",
       "<table border=\"1\" class=\"dataframe\">\n",
       "  <thead>\n",
       "    <tr style=\"text-align: right;\">\n",
       "      <th></th>\n",
       "      <th>organism</th>\n",
       "      <th>temp</th>\n",
       "      <th>pH</th>\n",
       "    </tr>\n",
       "  </thead>\n",
       "  <tbody>\n",
       "    <tr>\n",
       "      <th>0</th>\n",
       "      <td>Vibrio fictivorax</td>\n",
       "      <td>37</td>\n",
       "      <td>4</td>\n",
       "    </tr>\n",
       "    <tr>\n",
       "      <th>1</th>\n",
       "      <td>Salmonella imagina</td>\n",
       "      <td>36</td>\n",
       "      <td>4</td>\n",
       "    </tr>\n",
       "    <tr>\n",
       "      <th>2</th>\n",
       "      <td>Escherichia ficticola</td>\n",
       "      <td>37</td>\n",
       "      <td>7</td>\n",
       "    </tr>\n",
       "    <tr>\n",
       "      <th>3</th>\n",
       "      <td>Mycobacterium fictum</td>\n",
       "      <td>34</td>\n",
       "      <td>7</td>\n",
       "    </tr>\n",
       "    <tr>\n",
       "      <th>4</th>\n",
       "      <td>Lactobacillus fictobacter</td>\n",
       "      <td>15</td>\n",
       "      <td>8</td>\n",
       "    </tr>\n",
       "    <tr>\n",
       "      <th>5</th>\n",
       "      <td>Bacillus fictilis</td>\n",
       "      <td>13</td>\n",
       "      <td>8</td>\n",
       "    </tr>\n",
       "    <tr>\n",
       "      <th>6</th>\n",
       "      <td>Acinetobacter imaginensis</td>\n",
       "      <td>14</td>\n",
       "      <td>8</td>\n",
       "    </tr>\n",
       "    <tr>\n",
       "      <th>7</th>\n",
       "      <td>Pseudomonas fictosa</td>\n",
       "      <td>15</td>\n",
       "      <td>4</td>\n",
       "    </tr>\n",
       "    <tr>\n",
       "      <th>8</th>\n",
       "      <td>Streptomyces fictivus</td>\n",
       "      <td>14</td>\n",
       "      <td>5</td>\n",
       "    </tr>\n",
       "    <tr>\n",
       "      <th>9</th>\n",
       "      <td>Bacteroides fictus</td>\n",
       "      <td>15</td>\n",
       "      <td>5</td>\n",
       "    </tr>\n",
       "  </tbody>\n",
       "</table>\n",
       "</div>"
      ],
      "text/plain": [
       "                    organism  temp  pH\n",
       "0          Vibrio fictivorax    37   4\n",
       "1         Salmonella imagina    36   4\n",
       "2      Escherichia ficticola    37   7\n",
       "3       Mycobacterium fictum    34   7\n",
       "4  Lactobacillus fictobacter    15   8\n",
       "5          Bacillus fictilis    13   8\n",
       "6  Acinetobacter imaginensis    14   8\n",
       "7        Pseudomonas fictosa    15   4\n",
       "8      Streptomyces fictivus    14   5\n",
       "9         Bacteroides fictus    15   5"
      ]
     },
     "execution_count": 36,
     "metadata": {},
     "output_type": "execute_result"
    }
   ],
   "source": [
    "# Load environmental feature matrix\n",
    "df = pd.read_csv(FILENAME_ENV_DATA, sep=\";\", encoding='utf8')\n",
    "ft = df.to_numpy()\n",
    "\n",
    "# Extract useful info\n",
    "SPECIES_NAMES = np.array([line[0] for line in ft])\n",
    "FEATURES_NAMES = np.array([col for col in df.columns])[1:16]\n",
    "FEATURES_SPECIES = np.array([line[1:16] for line in ft])\n",
    "NFEATURES = FEATURES_SPECIES.shape[1]\n",
    "\n",
    "print(f\"Succesfully loaded {FILENAME_ENV_DATA}\")\n",
    "df.head(12)"
   ]
  },
  {
   "attachments": {},
   "cell_type": "markdown",
   "metadata": {},
   "source": [
    "##### Now load the phylogenetic tree"
   ]
  },
  {
   "cell_type": "code",
   "execution_count": 37,
   "metadata": {},
   "outputs": [
    {
     "name": "stderr",
     "output_type": "stream",
     "text": [
      "100%|██████████| 8/8 [00:00<00:00, 2627.60it/s]"
     ]
    },
    {
     "name": "stdout",
     "output_type": "stream",
     "text": [
      "\n",
      "Data loaded from ./mocK_tree.newick.\n",
      "Found data for > 11 leafs,\n",
      "               > 8 internal nodes.\n"
     ]
    },
    {
     "name": "stderr",
     "output_type": "stream",
     "text": [
      "\n"
     ]
    }
   ],
   "source": [
    "# Compute clade data\n",
    "data = fcutils.get_clade_data(\n",
    "    FILENAME_TREE,\n",
    "    treetype=\"newick\",\n",
    "    filename_out=None\n",
    ")\n",
    "\n",
    "# Extract important variables\n",
    "clade_ids, clade_lfs, clade_dpt, leaf_names = data\n",
    "\n",
    "GENUS = np.array([fcutils.get_genus(name) for name in leaf_names])\n",
    "SPECIES = np.array([fcutils.get_species(name) for name in leaf_names])\n",
    "NLEAFS = len(leaf_names)\n",
    "NCLADES = len(clade_ids)\n",
    "CLADE_NLEAFS = np.array([len(leafs) for leafs in clade_lfs])"
   ]
  },
  {
   "attachments": {},
   "cell_type": "markdown",
   "metadata": {},
   "source": [
    "##### Build the features matrix\n",
    "\n",
    "Find for which organism of the tree we have environmental info in the table, and build a features matrix. \n",
    "\n",
    "Observe that there is missing environmental data for just one organism."
   ]
  },
  {
   "cell_type": "code",
   "execution_count": 38,
   "metadata": {},
   "outputs": [
    {
     "name": "stdout",
     "output_type": "stream",
     "text": [
      "\n"
     ]
    },
    {
     "name": "stderr",
     "output_type": "stream",
     "text": [
      "10it [00:00, 9913.27it/s]"
     ]
    },
    {
     "name": "stdout",
     "output_type": "stream",
     "text": [
      "\n",
      "Data obtained for 10 tree entries.\n",
      "Data missing  for 1 tree entries.\n",
      "  -[   9] Clostridium imaginarium\n"
     ]
    },
    {
     "name": "stderr",
     "output_type": "stream",
     "text": [
      "\n"
     ]
    }
   ],
   "source": [
    "print(\"\")\n",
    "\n",
    "FEATURES = np.zeros((NLEAFS, NFEATURES)) * np.nan\n",
    "\n",
    "# Fill feature matrix of the organisms found in the tree\n",
    "for idx_sp, species in tqdm(enumerate(SPECIES_NAMES)):\n",
    "    _speacies_name = species.split(' ')\n",
    "    for idx_leaf, leaf in enumerate(leaf_names):\n",
    "        # If \"species\" is matched to the tree \"leaf\"\n",
    "        if (_speacies_name[0] in leaf) and (_speacies_name[1] in leaf):\n",
    "            FEATURES[idx_leaf, :] = FEATURES_SPECIES[idx_sp, :]\n",
    "\n",
    "_missing_data = np.sum(np.all(np.isnan(FEATURES), axis=1))\n",
    "_not_missing_data = FEATURES.shape[0] - _missing_data\n",
    "idx_missing = np.argwhere(np.all(np.isnan(FEATURES), axis=1))[:, 0]\n",
    "print(f'\\nData obtained for {_not_missing_data} tree entries.')\n",
    "print(f'Data missing  for {_missing_data} tree entries.')\n",
    "_ = [print(f\"  -[{_:4d}] {GENUS[_]} {SPECIES[_]}\") for _ in idx_missing]"
   ]
  },
  {
   "attachments": {},
   "cell_type": "markdown",
   "metadata": {},
   "source": [
    "And now randomize values and compute the enrichment as z-scores."
   ]
  },
  {
   "cell_type": "code",
   "execution_count": 39,
   "metadata": {},
   "outputs": [
    {
     "name": "stderr",
     "output_type": "stream",
     "text": [
      "100%|██████████| 8/8 [00:04<00:00,  1.96it/s]"
     ]
    },
    {
     "name": "stdout",
     "output_type": "stream",
     "text": [
      "Finished.\n"
     ]
    },
    {
     "name": "stderr",
     "output_type": "stream",
     "text": [
      "\n"
     ]
    }
   ],
   "source": [
    "# Declare accumulators\n",
    "ZSCORES = np.zeros((NCLADES, NFEATURES)) * np.nan\n",
    "\n",
    "# Compute randomizations for every internal node\n",
    "for idx_clade, _leafs in tqdm(enumerate(clade_lfs), total=NCLADES):\n",
    "    \n",
    "    # Compute true observed values for each feature\n",
    "    obs_mean = np.nanmean(FEATURES[_leafs, :], axis=0)\n",
    "\n",
    "    # Randomize values\n",
    "    values_mc = np.zeros((MCMAX, NFEATURES))\n",
    "    for imc in range(MCMAX):\n",
    "        rr = np.random.permutation(NLEAFS)[:len(_leafs)]\n",
    "        values_mc[imc, :] = np.nanmean(FEATURES[rr, :], axis=0)\n",
    "\n",
    "    # Compute and store z-scores\n",
    "    mc_mean = np.nanmean(values_mc, axis=0)\n",
    "    mc_std = np.nanstd(values_mc, axis=0)\n",
    "    mc_std[np.abs(mc_std) <= 1e-8] = np.nan\n",
    "    ZSCORES[idx_clade, :] = (obs_mean - mc_mean) / mc_std\n",
    "print(\"Finished.\")\n"
   ]
  },
  {
   "attachments": {},
   "cell_type": "markdown",
   "metadata": {},
   "source": [
    "##### Create some visualization to get a sense of the data.\n",
    "Observe that we will get clusters based on: high/low temperature and high/low pH."
   ]
  },
  {
   "cell_type": "code",
   "execution_count": 40,
   "metadata": {},
   "outputs": [
    {
     "data": {
      "image/png": "[encoded data removed]",
      "text/plain": [
       "<Figure size 400x300 with 2 Axes>"
      ]
     },
     "metadata": {},
     "output_type": "display_data"
    }
   ],
   "source": [
    "fig, ax = plt.subplots(figsize=(4,3), dpi=100)\n",
    "im = ax.imshow(ZSCORES, aspect=\"auto\")\n",
    "\n",
    "# Show all ticks and label them with the respective list entries\n",
    "ax.set_xticks(np.arange(len(FEATURES_NAMES)), labels=FEATURES_NAMES)\n",
    "#ax.set_yticks(np.arange(len(vegetables)), labels=vegetables)\n",
    "\n",
    "# Rotate the tick labels and set their alignment.\n",
    "plt.setp(ax.get_xticklabels(), rotation=45, ha=\"right\",\n",
    "         rotation_mode=\"anchor\")\n",
    "\n",
    "# Loop over data dimensions and create text annotations.\n",
    "for i in range(ZSCORES.shape[0]):\n",
    "    for j in range(len(FEATURES_NAMES)):\n",
    "        text = ax.text(j, i, f\"{ZSCORES[i, j]:0.1f}\",\n",
    "                       ha=\"center\", va=\"center\", color=\"w\")\n",
    "\n",
    "ax.set_ylabel(\"Internal nodes (root is 0)\")\n",
    "ax.set_title(\"Environmental enrichment results.\")\n",
    "fig.colorbar(im, label=\"Z-scores\")\n",
    "plt.tight_layout()\n",
    "plt.show()"
   ]
  },
  {
   "attachments": {},
   "cell_type": "markdown",
   "metadata": {},
   "source": [
    "### 2. Filter significant nodes\n",
    "In this section we will filter-out significant nodes whose parent is also significant. Note that we chose a Z_THRESHOLD = 1.0 just for ilustrative purposes. We **strongly** recommend that you choose a Z_THRESHOLD above 2.5."
   ]
  },
  {
   "cell_type": "code",
   "execution_count": 41,
   "metadata": {},
   "outputs": [],
   "source": [
    "# Related variables\n",
    "Z_THRESHOLD = 1.0\n",
    "ADJACENCY = fcutils.get_adjacency_matrix(FILENAME_TREE)\n",
    "\n",
    "# Remove nans, substitute with 0s\n",
    "X = ZSCORES.copy()\n",
    "X[np.isnan(X)] = 0\n",
    "\n",
    "# Clear output file\n",
    "with open(FILENAME_OUT, 'w+', encoding=\"utf-8\") as file:\n",
    "    pass\n",
    "\n",
    "# Accumulators\n",
    "SIGNIFICANT = []"
   ]
  },
  {
   "cell_type": "code",
   "execution_count": 42,
   "metadata": {},
   "outputs": [
    {
     "name": "stdout",
     "output_type": "stream",
     "text": [
      "\n",
      "---- temp ----\n",
      "Significant nodes: 7\n",
      "Significant nodes without significant parent:\n",
      "     1 has 2 leafs\n",
      "     2 has 2 leafs\n",
      "     4 has 2 leafs\n",
      "\n",
      "---- pH ----\n",
      "Significant nodes: 5\n",
      "Significant nodes without significant parent:\n",
      "     1 has 2 leafs\n",
      "     4 has 2 leafs\n",
      "\n",
      "----------------------------------\n",
      "Number of unique last parent significant nodes: 3.\n"
     ]
    }
   ],
   "source": [
    "# For every feature\n",
    "for feature_idx in range(FEATURES.shape[1]):\n",
    "\n",
    "    # Local accumulator\n",
    "    mrca_nodes = []\n",
    "\n",
    "    # Find nodes that are significant\n",
    "    nodes_sign = np.argwhere(np.abs(X[:, feature_idx]) > Z_THRESHOLD)[:, 0]\n",
    "\n",
    "    for node_idx in nodes_sign:\n",
    "\n",
    "        # Search parent\n",
    "        parent_idc = np.argwhere(ADJACENCY[:, node_idx])[:, 0]\n",
    "        # assert len(parent_idx) == 1\n",
    "\n",
    "        # Add this node only when its parent is not significant...\n",
    "        for p_idc in parent_idc:\n",
    "            if np.abs(X[p_idc, feature_idx]) < Z_THRESHOLD:\n",
    "                mrca_nodes.append(node_idx)\n",
    "\n",
    "    print(f\"\\n---- {FEATURES_NAMES[feature_idx]} ----\")\n",
    "    print(f\"Significant nodes: {len(nodes_sign)}\")\n",
    "    print(\"Significant nodes without significant parent:\")\n",
    "    _ = [print(f\"  {_:4d} has {CLADE_NLEAFS[_]} leafs\")\n",
    "         for _ in mrca_nodes]\n",
    "\n",
    "    # Show nodes that are contained in other significant nodes\n",
    "    final_mrca_nodes = mrca_nodes.copy()\n",
    "    for jj in mrca_nodes:\n",
    "        jj_leafs = set(clade_lfs[jj])\n",
    "\n",
    "        for kk in mrca_nodes:\n",
    "            if jj == kk:\n",
    "                continue\n",
    "            kk_leafs = set(clade_lfs[kk])\n",
    "\n",
    "            if kk_leafs.issubset(jj_leafs):\n",
    "                if kk in final_mrca_nodes:\n",
    "                    final_mrca_nodes.remove(kk)\n",
    "                print(f'>> node {jj:4d} contains node {kk:4d}')\n",
    "\n",
    "    # Export final_mrca_nodes if you wish to remove significant nodes whose\n",
    "    # direct parent is not significant, but perhaps some other \"secondary\" or\n",
    "    # more distant parent is again significant. From 70 to 50 entries in potF.\n",
    "    SIGNIFICANT.append(final_mrca_nodes)\n",
    "    # SIGNIFICANT.append(mrca_nodes)\n",
    "\n",
    "idc_unique = np.unique([_ for a in SIGNIFICANT for _ in a])\n",
    "\n",
    "print('\\n----------------------------------')\n",
    "print(f\"Number of unique last parent significant nodes: {len(idc_unique)}.\")\n"
   ]
  },
  {
   "attachments": {},
   "cell_type": "markdown",
   "metadata": {},
   "source": [
    "### 3. Clustering the phylogenetic tree\n",
    "\n",
    "Show the proposed clustering as per previous results:"
   ]
  },
  {
   "cell_type": "code",
   "execution_count": 43,
   "metadata": {},
   "outputs": [
    {
     "name": "stdout",
     "output_type": "stream",
     "text": [
      "\n",
      "---- Cluster 1 Clade #1 -----\n",
      "Zscore pattern: [ 1.69382354 -1.61039344]\n",
      "  Vibrio fictivorax\n",
      "  Salmonella imagina\n",
      "\n",
      "---- Cluster 2 Clade #2 -----\n",
      "Zscore pattern: [1.60261648 0.80849894]\n",
      "  Escherichia ficticola\n",
      "  Mycobacterium fictum\n",
      "\n",
      "---- Cluster 3 Clade #4 -----\n",
      "Zscore pattern: [-1.21516587  1.63182256]\n",
      "  Bacillus fictilis\n",
      "  Acinetobacter imaginensis\n"
     ]
    }
   ],
   "source": [
    "for jj, idx in enumerate(idc_unique):\n",
    "    print(f\"\\n---- Cluster {jj+1} Clade #{idx} -----\")\n",
    "    print(f\"Zscore pattern: {ZSCORES[idx,:]}\")\n",
    "    for leaf in clade_lfs[idx]:\n",
    "        print(\"  \" + GENUS[leaf], SPECIES[leaf])"
   ]
  },
  {
   "attachments": {},
   "cell_type": "markdown",
   "metadata": {},
   "source": [
    "##### Conclusions\n",
    "Therefore there seems to be 3 clusters:\n",
    "1. The first cluster contains orgnaisms whose habitat has a particularly high temperature and low pH\n",
    "2. The second cluster corresponds to organisms that live in typically high temperature and \"normal\" pH\n",
    "3. Last, the third cluster includes organisms that grow at low temperature and high pH."
   ]
  },
  {
   "attachments": {},
   "cell_type": "markdown",
   "metadata": {},
   "source": []
  }
 ],
 "metadata": {
  "kernelspec": {
   "display_name": "bio",
   "language": "python",
   "name": "python3"
  },
  "language_info": {
   "codemirror_mode": {
    "name": "ipython",
    "version": 3
   },
   "file_extension": ".py",
   "mimetype": "text/x-python",
   "name": "python",
   "nbconvert_exporter": "python",
   "pygments_lexer": "ipython3",
   "version": "3.11.3"
  },
  "orig_nbformat": 4
 },
 "nbformat": 4,
 "nbformat_minor": 2
}
